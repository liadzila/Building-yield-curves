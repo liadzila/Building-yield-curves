{
  "cells": [
    {
      "cell_type": "code",
      "source": [
        "from sympy import solve, symbols\n",
        "import numpy as np\n",
        "import matplotlib.pyplot as plt\n",
        "import scipy.interpolate\n",
        "import scipy.optimize"
      ],
      "metadata": {
        "id": "RGGJh3AvTgm4"
      },
      "execution_count": null,
      "outputs": []
    },
    {
      "cell_type": "code",
      "source": [
        "L3 = 2.0633e-2\n",
        "L6 = 2.5467e-2\n",
        "L12 = 3.1100e-2"
      ],
      "metadata": {
        "id": "0lrM0qL6JF6m"
      },
      "execution_count": null,
      "outputs": []
    },
    {
      "cell_type": "code",
      "source": [
        "l3, l6, x = symbols('L3 L6 x')\n",
        "solve((1 + 0.5*l6) - (1 + 0.25*l3)*(1 + 0.25*x), x)"
      ],
      "metadata": {
        "colab": {
          "base_uri": "https://localhost:8080/"
        },
        "id": "0MdWurgvlzAO",
        "outputId": "3fa4bd3f-0787-44d6-e6dd-3bc937787b43"
      },
      "execution_count": null,
      "outputs": [
        {
          "output_type": "execute_result",
          "data": {
            "text/plain": [
              "[4.0*(-L3 + 2.0*L6)/(L3 + 4.0)]"
            ]
          },
          "metadata": {},
          "execution_count": 41
        }
      ]
    },
    {
      "cell_type": "code",
      "source": [
        "L_3_6 = 4.0*(-L3 + 2.0*L6)/(L3 + 4.0)"
      ],
      "metadata": {
        "id": "50KG31qImGT5"
      },
      "execution_count": null,
      "outputs": []
    },
    {
      "cell_type": "code",
      "source": [
        "def implyD12(L3, L_3_6, x):\n",
        "    f = scipy.interpolate.interp1d([3,6,12], [L3,L_3_6,x], 'quadratic')\n",
        "    L_6_9 = f(9)\n",
        "    D3 = 1/(1 + 0.25*L3)\n",
        "    D6 = D3/(1 + 0.25*L_3_6)\n",
        "    D9 = D6/(1 + 0.25*x)\n",
        "    D12 = D9/(1 + 0.25*x)\n",
        "    return D12\n",
        "\n",
        "D12 = 1 / (1 + L12)\n",
        "L_9_12 = scipy.optimize.broyden1(lambda x: implyD12(L3,L_3_6,x) - D12, 1.0, f_tol=1e-6)\n",
        "f = scipy.interpolate.interp1d([3,6,12], [L3,L_3_6,L_9_12], 'quadratic')\n",
        "tenors1Y = [3,6,9,12]\n",
        "curve1Y = f(tenors1Y)\n",
        "\n",
        "plt.plot(tenors1Y, curve1Y, c = \"r\")\n",
        "plt.title(\"CIBOR yield curve\")\n",
        "plt.xlabel(\"Residual maturity in months\")\n",
        "plt.ylabel(\"Yield in %\")\n",
        "plt.show()"
      ],
      "metadata": {
        "colab": {
          "base_uri": "https://localhost:8080/",
          "height": 294
        },
        "id": "bESCKvuqO0jp",
        "outputId": "919331a1-e1f2-46c4-ae09-5bdd820c6b4c"
      },
      "execution_count": null,
      "outputs": [
        {
          "output_type": "display_data",
          "data": {
            "text/plain": [
              "<Figure size 432x288 with 1 Axes>"
            ],
            "image/png": "[encoded data removed]"
          },
          "metadata": {
            "needs_background": "light"
          }
        }
      ]
    }
  ],
  "metadata": {
    "kernelspec": {
      "display_name": "Python 3",
      "language": "python",
      "name": "python3"
    },
    "language_info": {
      "codemirror_mode": {
        "name": "ipython",
        "version": 3
      },
      "file_extension": ".py",
      "mimetype": "text/x-python",
      "name": "python",
      "nbconvert_exporter": "python",
      "pygments_lexer": "ipython3",
      "version": "3.7.6"
    },
    "colab": {
      "provenance": []
    }
  },
  "nbformat": 4,
  "nbformat_minor": 0
}